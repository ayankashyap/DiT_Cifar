{
 "cells": [
  {
   "cell_type": "code",
   "execution_count": 1,
   "metadata": {},
   "outputs": [
    {
     "name": "stderr",
     "output_type": "stream",
     "text": [
      "/media/newhd/ayan/diffusion_exps/envs/lib/python3.11/site-packages/tqdm/auto.py:21: TqdmWarning: IProgress not found. Please update jupyter and ipywidgets. See https://ipywidgets.readthedocs.io/en/stable/user_install.html\n",
      "  from .autonotebook import tqdm as notebook_tqdm\n"
     ]
    }
   ],
   "source": [
    "%load_ext autoreload\n",
    "%autoreload 2\n",
    "\n",
    "from model import DiT\n",
    "from cfm import CFM\n",
    "\n",
    "import torch"
   ]
  },
  {
   "cell_type": "code",
   "execution_count": 2,
   "metadata": {},
   "outputs": [],
   "source": [
    "from PIL import Image"
   ]
  },
  {
   "cell_type": "code",
   "execution_count": 3,
   "metadata": {},
   "outputs": [],
   "source": [
    "from trainer_accel import CifarConfig\n"
   ]
  },
  {
   "cell_type": "code",
   "execution_count": null,
   "metadata": {},
   "outputs": [],
   "source": []
  },
  {
   "cell_type": "code",
   "execution_count": 4,
   "metadata": {},
   "outputs": [],
   "source": [
    "def get_model(config, device, ckpt_path):\n",
    "    dit = DiT(\n",
    "            input_size=config.input_size,\n",
    "            patch_size=config.patch_size,\n",
    "            in_channels=config.in_channels,\n",
    "            dim=config.dim,\n",
    "            depth=config.depth,\n",
    "            num_heads=config.num_heads,\n",
    "            num_classes=config.num_classes,\n",
    "            class_dropout_prob=config.class_dropout_prob,\n",
    "            pos_encoding=config.positional_encoding,\n",
    "            hidden_scale=config.hidden_scale,\n",
    "        ) \n",
    "\n",
    "    model = CFM(model=dit, device=device)\n",
    "    ckpt = torch.load(ckpt_path, weights_only=True, map_location='cpu')\n",
    "    model.load_state_dict(ckpt['model'])\n",
    "    return model\n",
    "\n",
    "model = get_model(CifarConfig, torch.device('cuda'), '/media/newhd/ayan/diffusion_exps/DiT_cifar/cifar_models/checkpoints/model_440000.pt')\n",
    "    "
   ]
  },
  {
   "cell_type": "code",
   "execution_count": 5,
   "metadata": {},
   "outputs": [
    {
     "data": {
      "text/plain": [
       "device(type='cuda', index=0)"
      ]
     },
     "execution_count": 5,
     "metadata": {},
     "output_type": "execute_result"
    }
   ],
   "source": [
    "model.model.c_embedder.embed.weight.device"
   ]
  },
  {
   "cell_type": "code",
   "execution_count": 18,
   "metadata": {},
   "outputs": [
    {
     "name": "stderr",
     "output_type": "stream",
     "text": [
      "  0%|          | 0/50 [00:00<?, ?it/s]"
     ]
    },
    {
     "name": "stderr",
     "output_type": "stream",
     "text": [
      "100%|██████████| 50/50 [00:02<00:00, 21.27it/s]\n"
     ]
    }
   ],
   "source": [
    "image = model.sample(1, c=torch.Tensor([1]).long(), steps=50, cfg_scale=10)\n"
   ]
  },
  {
   "cell_type": "code",
   "execution_count": 19,
   "metadata": {},
   "outputs": [],
   "source": [
    "def img_from_tensor(image_tensor):\n",
    "    image = image_tensor.permute(0, 2, 3, 1).detach().cpu().numpy()[0]\n",
    "    image = (image * 255).astype('uint8')\n",
    "    return Image.fromarray(image)\n",
    "\n",
    "\n",
    "img = img_from_tensor(image)"
   ]
  },
  {
   "cell_type": "code",
   "execution_count": 20,
   "metadata": {},
   "outputs": [],
   "source": [
    "from matplotlib.pyplot import imshow"
   ]
  },
  {
   "cell_type": "code",
   "execution_count": 21,
   "metadata": {},
   "outputs": [
    {
     "data": {
      "text/plain": [
       "<matplotlib.image.AxesImage at 0x7f5fa1980d10>"
      ]
     },
     "execution_count": 21,
     "metadata": {},
     "output_type": "execute_result"
    },
    {
     "data": {
      "image/png": "[encoded data removed]",
      "text/plain": [
       "<Figure size 640x480 with 1 Axes>"
      ]
     },
     "metadata": {},
     "output_type": "display_data"
    }
   ],
   "source": [
    "imshow(img)"
   ]
  },
  {
   "cell_type": "code",
   "execution_count": null,
   "metadata": {},
   "outputs": [],
   "source": []
  }
 ],
 "metadata": {
  "kernelspec": {
   "display_name": "envs",
   "language": "python",
   "name": "python3"
  },
  "language_info": {
   "codemirror_mode": {
    "name": "ipython",
    "version": 3
   },
   "file_extension": ".py",
   "mimetype": "text/x-python",
   "name": "python",
   "nbconvert_exporter": "python",
   "pygments_lexer": "ipython3",
   "version": "3.11.8"
  }
 },
 "nbformat": 4,
 "nbformat_minor": 2
}
